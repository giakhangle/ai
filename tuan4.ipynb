{
  "nbformat": 4,
  "nbformat_minor": 0,
  "metadata": {
    "colab": {
      "provenance": [],
      "authorship_tag": "ABX9TyOv39LDcC90FI0wVTgSWDaB",
      "include_colab_link": true
    },
    "kernelspec": {
      "name": "python3",
      "display_name": "Python 3"
    },
    "language_info": {
      "name": "python"
    }
  },
  "cells": [
    {
      "cell_type": "markdown",
      "metadata": {
        "id": "view-in-github",
        "colab_type": "text"
      },
      "source": [
        "<a href=\"https://colab.research.google.com/github/giakhangle/ai/blob/main/tuan4.ipynb\" target=\"_parent\"><img src=\"https://colab.research.google.com/assets/colab-badge.svg\" alt=\"Open In Colab\"/></a>"
      ]
    },
    {
      "cell_type": "markdown",
      "source": [
        "BFS"
      ],
      "metadata": {
        "id": "ArEsvlbtXZgm"
      }
    },
    {
      "cell_type": "code",
      "execution_count": 18,
      "metadata": {
        "colab": {
          "base_uri": "https://localhost:8080/"
        },
        "id": "_Br32Z0bKVIO",
        "outputId": "52f0131f-daba-4d36-e045-1850408f0352"
      },
      "outputs": [
        {
          "output_type": "stream",
          "name": "stdout",
          "text": [
            "0 1 2 3 4 5 "
          ]
        }
      ],
      "source": [
        "from collections import defaultdict\n",
        "class Graph:\n",
        "  #Hàm khởi tạo\n",
        "  def __init__(self):\n",
        "    #Dùng dictionary để lưu đồ thị\n",
        "    self.graph=defaultdict(list)\n",
        "  \n",
        "  #Hàm thêm cạch (u,v) vào đồ thị\n",
        "  def addEdge(self, u, v):\n",
        "    self.graph[u].append(v)\n",
        "  \n",
        "  #Hàm BFS duyệt đồ thị các đỉnh theo chiều rộng\n",
        "  def BFS(self, u):\n",
        "    #đánh dấu các đỉnh đã đi qua\n",
        "    visited = [False]*(len(self.graph))\n",
        "    #khởi tạo hàm đại\n",
        "    queue =[]\n",
        "    #đánh dấu đỉnh u trong visited và đưa vào hàng đại\n",
        "    visited[u] = True\n",
        "    queue.append(u)\n",
        "\n",
        "    while queue:\n",
        "      #lấy 1 đỉnh hàng đại và in giá trị\n",
        "      u = queue.pop(0)\n",
        "      print(u, end=' ')\n",
        "\n",
        "      for i in self.graph[u]:\n",
        "        if not visited[i]:\n",
        "          queue.append(i)\n",
        "          visited[i] = True\n",
        "\n",
        "if __name__ == \"__main__\":\n",
        "  g=Graph()\n",
        "  g.addEdge(0,1)\n",
        "  g.addEdge(0,2)\n",
        "  g.addEdge(1,0)\n",
        "  g.addEdge(1,3)\n",
        "  g.addEdge(1,4)\n",
        "  g.addEdge(2,0)\n",
        "  g.addEdge(2,4)\n",
        "  g.addEdge(3,1)\n",
        "  g.addEdge(3,4)\n",
        "  g.addEdge(3,5)\n",
        "  g.addEdge(4,1)\n",
        "  g.addEdge(4,2)\n",
        "  g.addEdge(4,3)\n",
        "  g.addEdge(4,5)\n",
        "  g.addEdge(5,3)\n",
        "  g.addEdge(5,4)\n",
        "  g.BFS(0)"
      ]
    },
    {
      "cell_type": "markdown",
      "source": [
        "DFS"
      ],
      "metadata": {
        "id": "AvOcVmx_XX6F"
      }
    },
    {
      "cell_type": "code",
      "source": [
        "from collections import defaultdict\n",
        "class Graph:\n",
        "  #Hàm khởi tạo\n",
        "  def __init__(self):\n",
        "    #Dùng dictionary để lưu đồ thị\n",
        "    self.graph=defaultdict(list)\n",
        "  \n",
        "  #Hàm thêm 1 cạch vào đồ thị\n",
        "  def addEdge(self, u, v):\n",
        "    self.graph[u].append(v)\n",
        "  \n",
        "  #Hàm đánh dấu đỉnh v đang xét và xét các đỉnh kề với đỉnh v\n",
        "  def DFSUtil(self, v, visited):\n",
        "    #đánh dấu đỉnh đang xét đã đi qua\n",
        "    visited[v]=True\n",
        "    print(v, end=' ')\n",
        "  \n",
        "    #đệ qui tất cả các đỉnh kề vói v đang xét\n",
        "    for i in self.graph[v]:\n",
        "      if visited[i] == False:\n",
        "        self.DFSUtil(i, visited)\n",
        "    \n",
        "  def DFS(self, v):\n",
        "    #Đánh dấu tất cả các đỉnh chưa đi qua\n",
        "    visited = [False]*(max(self.graph)+1)\n",
        "\n",
        "    #gọi hàm DESUtil để duyệt đồ thị\n",
        "    self.DFSUtil(v, visited)\n",
        "\n",
        "if __name__ == \"__main__\":\n",
        "  g=Graph()\n",
        "  g.addEdge(0,1)\n",
        "  g.addEdge(0,2)\n",
        "  g.addEdge(1,0)\n",
        "  g.addEdge(1,3)\n",
        "  g.addEdge(1,4)\n",
        "  g.addEdge(2,0)\n",
        "  g.addEdge(2,4)\n",
        "  g.addEdge(3,1)\n",
        "  g.addEdge(3,4)\n",
        "  g.addEdge(3,5)\n",
        "  g.addEdge(4,1)\n",
        "  g.addEdge(4,2)\n",
        "  g.addEdge(4,3)\n",
        "  g.addEdge(4,5)\n",
        "  g.addEdge(5,3)\n",
        "  g.addEdge(5,4)\n",
        "  g.DFS(0)"
      ],
      "metadata": {
        "colab": {
          "base_uri": "https://localhost:8080/"
        },
        "id": "g0IY4pErXbvs",
        "outputId": "cb466313-c092-4a18-e866-b6dc11a18242"
      },
      "execution_count": 20,
      "outputs": [
        {
          "output_type": "stream",
          "name": "stdout",
          "text": [
            "0 1 3 4 2 5 "
          ]
        }
      ]
    },
    {
      "cell_type": "markdown",
      "source": [
        "heuristic"
      ],
      "metadata": {
        "id": "Du1LdoBfYHBL"
      }
    },
    {
      "cell_type": "code",
      "source": [
        "from collections import deque\n",
        "class Graph:\n",
        "  def __init__ (self, adjac_lis):\n",
        "    self.adjac_lis = adjac_lis\n",
        "\n",
        "  def get_neighbors(self, v):\n",
        "    return self.adjac_lis[v]\n",
        "\n",
        "  def h(self, n):\n",
        "    H = {'A': 1, 'B': 1, 'C': 1, 'D': 1, 'E': 1, 'F':1}\n",
        "    return H[n]\n",
        "\n",
        "  def a_star_algorithm(self, start, stop):\n",
        "    open_lst = set([start])\n",
        "    closed_lst = set([])\n",
        "    poo = {}\n",
        "    poo[start] = 0\n",
        "    par = {}\n",
        "    par[start] = start\n",
        "\n",
        "    while len(open_lst)>0:\n",
        "      n = None\n",
        "      for v in open_lst:\n",
        "        if n == None or poo[v] + self.h(v)<poo[n] + self.h(n):\n",
        "          n =v;\n",
        "      if n == None:\n",
        "        print(\"Path does not exist\")\n",
        "        return None\n",
        "\n",
        "      if n== stop:\n",
        "        reconst_path = []\n",
        "        while par[n] != n:\n",
        "          reconst_path.append(n)\n",
        "          n = par[n]\n",
        "\n",
        "        reconst_path.append(start)\n",
        "        reconst_path.reverse()\n",
        "        print('Path found: {}',format(reconst_path))\n",
        "        return reconst_path\n",
        "\n",
        "      for (m, weight) in self.get_neighbors(n):\n",
        "        if m not in open_lst and m not in closed_lst:\n",
        "          open_lst.add(m)\n",
        "          par[m] = n\n",
        "          poo[m] = poo[n] + weight\n",
        "        else:\n",
        "          if poo[m]>poo[n] + weight:\n",
        "            poo[m] = poo[n] +weight\n",
        "            par[m] = par[n]\n",
        "\n",
        "            if m in closed_lst:\n",
        "              closed_lst.remove(m)\n",
        "              open_lst.add(m)\n",
        "\n",
        "      open_lst.remove(n)\n",
        "      closed_lst.add(n)\n",
        "\n",
        "    print('Path does not exist')\n",
        "    return None\n",
        "\n",
        "adjac_lis = {\n",
        "    'A': [('B', 1), ('C', 3)],\n",
        "    'B': [('D', 2), ('D', 5), ('E', 2)],\n",
        "    'C': [('A', 3), ('E', 5)],\n",
        "    'D': [('B', 5), ('E', 1), ('F', 2)],\n",
        "    'E': [('B', 2), ('C', 5), ('D', 1), ('F', 4)],\n",
        "    'F': [('D', 2), ('E', 4)]\n",
        "}\n",
        "graph1 = Graph(adjac_lis)\n",
        "graph1.a_star_algorithm('A', 'F')"
      ],
      "metadata": {
        "colab": {
          "base_uri": "https://localhost:8080/"
        },
        "id": "FVgoLGh6YKpb",
        "outputId": "04e93632-cb25-47b8-8064-818d1e6ae153"
      },
      "execution_count": 25,
      "outputs": [
        {
          "output_type": "stream",
          "name": "stdout",
          "text": [
            "Path found: {} ['A', 'B', 'D', 'F']\n"
          ]
        },
        {
          "output_type": "execute_result",
          "data": {
            "text/plain": [
              "['A', 'B', 'D', 'F']"
            ]
          },
          "metadata": {},
          "execution_count": 25
        }
      ]
    },
    {
      "cell_type": "markdown",
      "source": [
        "Dijkstra"
      ],
      "metadata": {
        "id": "XyBH80N7dV2D"
      }
    },
    {
      "cell_type": "code",
      "source": [
        "from collections import defaultdict, deque\n",
        "class Graph():\n",
        "  def __init__(self, vertices):\n",
        "    self.V = vertices\n",
        "    self.graph = [[0 for column in range(vertices)]\n",
        "                  for row in range(vertices)]\n",
        "\n",
        "  def printSolution(self, dist):\n",
        "    print(\"Vertex \\tDistanc from Source\")\n",
        "    for node in range(self.V):\n",
        "      print(node, \"\\t\\t\", dist[node])\n",
        "\n",
        "  def minDistance(self, dist, sptSet):\n",
        "    min = 10000\n",
        "    for v in range(self.V):\n",
        "      if dist[v]<min and sptSet[v] == False:\n",
        "        min = dist[v]\n",
        "        min_index = v\n",
        "    return min_index\n",
        "\n",
        "  def dijkstra(self, src):\n",
        "    dist = [10000]*self.V\n",
        "    dist[src]=0\n",
        "    sptSet = [False]*self.V\n",
        "    for count in range(self.V):\n",
        "      u = self.minDistance(dist, sptSet)\n",
        "      sptSet[u] = True\n",
        "      for v in range(self.V):\n",
        "        if self.graph[u][v]>0 and sptSet[v] == False and dist[v]>(dist[u]+self.graph[u][v]):\n",
        "          dist[v] =dist[u] + self.graph[u][v]\n",
        "    self.printSolution(dist)\n",
        "\n",
        "g=Graph(9)\n",
        "g.graph = [[0, 4, 0, 0, 0, 0, 0, 8, 0],\n",
        "          [4, 0, 8, 0, 0, 0, 0, 11, 0],\n",
        "          [0, 8, 0, 7, 0, 4, 0, 0, 2],\n",
        "          [0, 0, 7, 0, 9, 14, 0, 0, 0],\n",
        "          [0, 0, 0, 9, 0, 10, 0, 0, 0],\n",
        "          [0, 0, 4, 14, 10, 0, 2, 0, 0],\n",
        "          [0, 0, 0, 0, 0, 2, 0, 1, 6],\n",
        "          [8, 11, 0, 0, 0, 0, 6, 7, 0],\n",
        "          [0, 0, 2, 0, 0, 0, 6, 7, 0]]\n",
        "g.dijkstra(0)"
      ],
      "metadata": {
        "colab": {
          "base_uri": "https://localhost:8080/"
        },
        "id": "PDyrTAxzdYPK",
        "outputId": "796ff57d-140e-44c3-95ee-7c3ca4100ef4"
      },
      "execution_count": 48,
      "outputs": [
        {
          "output_type": "stream",
          "name": "stdout",
          "text": [
            "Vertex \tDistanc from Source\n",
            "0 \t\t 0\n",
            "1 \t\t 4\n",
            "2 \t\t 12\n",
            "3 \t\t 19\n",
            "4 \t\t 26\n",
            "5 \t\t 16\n",
            "6 \t\t 14\n",
            "7 \t\t 8\n",
            "8 \t\t 14\n"
          ]
        }
      ]
    }
  ]
}