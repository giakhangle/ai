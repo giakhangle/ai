{
  "nbformat": 4,
  "nbformat_minor": 0,
  "metadata": {
    "colab": {
      "provenance": [],
      "authorship_tag": "ABX9TyPHc9BRxd8lHDdhoZwm+61j",
      "include_colab_link": true
    },
    "kernelspec": {
      "name": "python3",
      "display_name": "Python 3"
    },
    "language_info": {
      "name": "python"
    }
  },
  "cells": [
    {
      "cell_type": "markdown",
      "metadata": {
        "id": "view-in-github",
        "colab_type": "text"
      },
      "source": [
        "<a href=\"https://colab.research.google.com/github/giakhangle/ai/blob/main/tuan2.ipynb\" target=\"_parent\"><img src=\"https://colab.research.google.com/assets/colab-badge.svg\" alt=\"Open In Colab\"/></a>"
      ]
    },
    {
      "cell_type": "markdown",
      "source": [
        "01-DFS"
      ],
      "metadata": {
        "id": "Hj2K5cvbZYBA"
      }
    },
    {
      "cell_type": "code",
      "source": [
        "from _collections import defaultdict\n",
        "class Graph:\n",
        "  #Hàm khởi tạo\n",
        "  def __init__(self):\n",
        "    #Dùng dictionary để lưu đồ thị\n",
        "    self.graph=defaultdict(list)\n",
        "  \n",
        "  #Hàm thêm 1 cạch vào đồ thị\n",
        "  def addEdge(self, u, v):\n",
        "    self.graph[u].append(v)\n",
        "  \n",
        "  #Hàm đánh dấu đỉnh v đang xét và xét các đỉnh kề với đỉnh v\n",
        "  def DFSUtil(self, v, visited):\n",
        "    #đánh dấu đỉnh đang xét đã đi qua\n",
        "    visited[v]=True\n",
        "    print(v, end=' ')\n",
        "  \n",
        "    #đệ qui tất cả các đỉnh kề vói v đang xét\n",
        "    for i in self.graph[v]:\n",
        "      if visited[i] == False:\n",
        "        self.DFSUtil(i, visited)\n",
        "    \n",
        "  def DFS(self, v):\n",
        "    #Đánh dấu tất cả các đỉnh chưa đi qua\n",
        "    visited = [False]*(max(self.graph)+1)\n",
        "\n",
        "    #gọi hàm DESUtil để duyệt đồ thị\n",
        "    self.DFSUtil(v, visited)\n",
        "\n",
        "if __name__ == '__main__':\n",
        "  g=Graph()\n",
        "  g.addEdge(0,1) \n",
        "  g.addEdge(1,0)\n",
        "  g.addEdge(0,2)\n",
        "  g.addEdge(2,0)\n",
        "  g.addEdge(1,2)\n",
        "  g.addEdge(1,4)\n",
        "  g.addEdge(1,3)\n",
        "  g.addEdge(3,1)\n",
        "  g.addEdge(2,4)\n",
        "  g.addEdge(4,2)\n",
        "  g.addEdge(3,4)\n",
        "  g.addEdge(4,3)\n",
        "  g.addEdge(3,5)\n",
        "  g.addEdge(5,3)\n",
        "  g.addEdge(4,5)\n",
        "  g.addEdge(5,4)\n",
        "  print(\"DFS starts with vertex 0\")\n",
        "  g.DFS(0)"
      ],
      "metadata": {
        "colab": {
          "base_uri": "https://localhost:8080/"
        },
        "id": "6bSAQvcwZap_",
        "outputId": "2a74d7ad-da98-4a83-ce90-bb2a5cc0f088"
      },
      "execution_count": 64,
      "outputs": [
        {
          "output_type": "stream",
          "name": "stdout",
          "text": [
            "DFS starts with vertex 0\n",
            "0 1 2 4 3 5 "
          ]
        }
      ]
    },
    {
      "cell_type": "markdown",
      "source": [
        "02-BFS"
      ],
      "metadata": {
        "id": "8IA5PtJhbimU"
      }
    },
    {
      "cell_type": "code",
      "source": [
        "from _collections import defaultdict\n",
        "class Graph:\n",
        "  #Hàm khởi tạo\n",
        "  def __init__(self):\n",
        "    #Dùng dictionary để lưu đồ thị\n",
        "    self.graph=defaultdict(list)\n",
        "  \n",
        "  #Hàm thêm cạch (u,v) vào đồ thị\n",
        "  def addEdge(self, u, v):\n",
        "    self.graph[u].append(v)\n",
        "  \n",
        "  #Hàm BFS duyệt đồ thị các đỉnh theo chiều rộng\n",
        "  def BFS(self, u):\n",
        "    #đánh dấu các đỉnh đã đi qua\n",
        "    visited = [False]*(len(self.graph))\n",
        "    #khởi tạo hàm đại\n",
        "    queue =[]\n",
        "    #đánh dấu đỉnh u trong visited và đưa vào hàng đại\n",
        "    visited[u] = True\n",
        "    queue.append(u)\n",
        "\n",
        "    while queue:\n",
        "      #lấy 1 đỉnh hàng đại và in giá trị\n",
        "      u = queue.pop(0)\n",
        "      print(u, end=' ')\n",
        "\n",
        "      for i in self.graph[u]:\n",
        "        if not visited[i]:\n",
        "          queue.append(i)\n",
        "          visited[i] = True\n",
        "\n",
        "if __name__ == '__main__':\n",
        "  g=Graph()\n",
        "  g.addEdge(0,1) \n",
        "  g.addEdge(1,0)\n",
        "  g.addEdge(0,2)\n",
        "  g.addEdge(2,0)\n",
        "  g.addEdge(1,2)\n",
        "  g.addEdge(1,4)\n",
        "  g.addEdge(1,3)\n",
        "  g.addEdge(3,1)\n",
        "  g.addEdge(2,4)\n",
        "  g.addEdge(4,2)\n",
        "  g.addEdge(3,4)\n",
        "  g.addEdge(4,3)\n",
        "  g.addEdge(3,5)\n",
        "  g.addEdge(5,3)\n",
        "  g.addEdge(4,5)\n",
        "  g.addEdge(5,4)\n",
        "  print(\"BFS starts with vertex 0\")\n",
        "  g.BFS(0)"
      ],
      "metadata": {
        "colab": {
          "base_uri": "https://localhost:8080/"
        },
        "id": "jyzyYpTjbkh1",
        "outputId": "91750260-2c93-4f1d-962e-1b2cd5ee1fc1"
      },
      "execution_count": 66,
      "outputs": [
        {
          "output_type": "stream",
          "name": "stdout",
          "text": [
            "BFS starts with vertex 0\n",
            "0 1 2 4 3 5 "
          ]
        }
      ]
    },
    {
      "cell_type": "markdown",
      "source": [
        "03-Heuristic A* Algorithm"
      ],
      "metadata": {
        "id": "UORny4RJd4zJ"
      }
    },
    {
      "cell_type": "code",
      "execution_count": 68,
      "metadata": {
        "id": "ANGB9QCJIoQ7"
      },
      "outputs": [],
      "source": [
        "from collections import deque\n",
        "class Graph:\n",
        "  def __init__ (self, adjac_lis):\n",
        "    self.adjac_lis = adjac_lis\n",
        "\n",
        "  def get_neighbors(self, v):\n",
        "    return self.adjac_lis[v]\n",
        "\n",
        "  def h(self, n):\n",
        "    H = {'A': 1, 'B': 1, 'C': 1, 'D': 1}\n",
        "    return H[n]\n",
        "\n",
        "  def a_star_algorithm(self, start, stop):\n",
        "    open_lst = set([start])\n",
        "    closed_lst = set([])\n",
        "    poo = {}\n",
        "    poo[start] = 0\n",
        "    par = {}\n",
        "    par[start] = start\n",
        "\n",
        "    while len(open_lst)>0:\n",
        "      n = None\n",
        "      for v in open_lst:\n",
        "        if n == None or poo[v] + self.h(v)<poo[n] + self.h(n):\n",
        "          n =v;\n",
        "      if n == None:\n",
        "        print(\"Path does not exist\")\n",
        "        return None\n",
        "\n",
        "      if n== stop:\n",
        "        reconst_path = []\n",
        "        while par[n] != n:\n",
        "          reconst_path.append(n)\n",
        "          n = par[n]\n",
        "\n",
        "        reconst_path.append(start)\n",
        "        reconst_path.reverse()\n",
        "        print('Path found: {}',format(reconst_path))\n",
        "        return reconst_path\n",
        "\n",
        "      for (m, weight) in self.get_neighbors(n):\n",
        "        if m not in open_lst and m not in closed_lst:\n",
        "          open_lst.add(m)\n",
        "          par[m] = n\n",
        "          poo[m] = poo[n] + weight\n",
        "        else:\n",
        "          if poo[m]>poo[n] + weight:\n",
        "            poo[m] = poo[n] +weight\n",
        "            par[m] = par[n]\n",
        "\n",
        "            if m in closed_lst:\n",
        "              closed_lst.remove(m)\n",
        "              open_lst.add(m)\n",
        "\n",
        "      open_lst.remove(n)\n",
        "      closed_lst.add(n)\n",
        "\n",
        "    print('Path does not exist')\n",
        "    return None"
      ]
    },
    {
      "cell_type": "markdown",
      "source": [
        "04-Heuristic A* Algorithm"
      ],
      "metadata": {
        "id": "6jYMVNbjd-bJ"
      }
    },
    {
      "cell_type": "code",
      "source": [
        "from collections import deque\n",
        "class Graph:\n",
        "  def __init__ (self, adjac_lis):\n",
        "    self.adjac_lis = adjac_lis\n",
        "\n",
        "  def get_neighbors(self, v):\n",
        "    return self.adjac_lis[v]\n",
        "\n",
        "  def h(self, n):\n",
        "    H = {\n",
        "        'A': [('B', 1), ('C', 3), ('D', 7)],\n",
        "        'B': [('D', 5)],\n",
        "        'C': [('D', 12)]\n",
        "    }\n",
        "\n",
        "    return H[n]\n",
        "\n",
        "  def a_star_algorithm(self, start, stop):\n",
        "    open_lst = set([start])\n",
        "    closed_lst = set([])\n",
        "    poo = {}\n",
        "    poo[start] = 0\n",
        "    par = {}\n",
        "    par[start] = start\n",
        "\n",
        "    while len(open_lst)>0:\n",
        "      n = None\n",
        "      for v in open_lst:\n",
        "        if n == None or poo[v] + self.h(v)<poo[n] + self.h(n):\n",
        "          n =v;\n",
        "      if n == None:\n",
        "        print(\"Path does not exist\")\n",
        "        return None\n",
        "\n",
        "      if n== stop:\n",
        "        reconst_path = []\n",
        "        while par[n] != n:\n",
        "          reconst_path.append(n)\n",
        "          n = par[n]\n",
        "\n",
        "        reconst_path.append(start)\n",
        "        reconst_path.reverse()\n",
        "        print('Path found: {}',format(reconst_path))\n",
        "        return reconst_path\n",
        "\n",
        "      for (m, weight) in self.get_neighbors(n):\n",
        "        if m not in open_lst and m not in closed_lst:\n",
        "          open_lst.add(m)\n",
        "          par[m] = n\n",
        "          poo[m] = poo[n] + weight\n",
        "        else:\n",
        "          if poo[m]>poo[n] + weight:\n",
        "            poo[m] = poo[n] +weight\n",
        "            par[m] = par[n]\n",
        "\n",
        "            if m in closed_lst:\n",
        "              closed_lst.remove(m)\n",
        "              open_lst.add(m)\n",
        "\n",
        "      open_lst.remove(n)\n",
        "      closed_lst.add(n)\n",
        "\n",
        "    print('Path does not exist')\n",
        "    return None"
      ],
      "metadata": {
        "id": "k9x3dqFtPYQK"
      },
      "execution_count": 67,
      "outputs": []
    }
  ]
}