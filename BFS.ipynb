{
  "nbformat": 4,
  "nbformat_minor": 0,
  "metadata": {
    "colab": {
      "provenance": [],
      "authorship_tag": "ABX9TyPWdkR7tMFLsasPvgNQzx1z",
      "include_colab_link": true
    },
    "kernelspec": {
      "name": "python3",
      "display_name": "Python 3"
    },
    "language_info": {
      "name": "python"
    }
  },
  "cells": [
    {
      "cell_type": "markdown",
      "metadata": {
        "id": "view-in-github",
        "colab_type": "text"
      },
      "source": [
        "<a href=\"https://colab.research.google.com/github/giakhangle/ai/blob/main/BFS.ipynb\" target=\"_parent\"><img src=\"https://colab.research.google.com/assets/colab-badge.svg\" alt=\"Open In Colab\"/></a>"
      ]
    },
    {
      "cell_type": "code",
      "execution_count": 29,
      "metadata": {
        "colab": {
          "base_uri": "https://localhost:8080/"
        },
        "id": "MWqGVGzlO5zO",
        "outputId": "28e3f52a-c6d8-4743-96e3-49519eec39a1"
      },
      "outputs": [
        {
          "output_type": "stream",
          "name": "stdout",
          "text": [
            "BEF starts with vertex 0\n",
            "0 1 2 3 4 5 "
          ]
        }
      ],
      "source": [
        "from _collections import defaultdict\n",
        "class Graph:\n",
        "  #Hàm khởi tạo\n",
        "  def __init__(self):\n",
        "    #Dùng dictionary để lưu đồ thị\n",
        "    self.graph=defaultdict(list)\n",
        "  \n",
        "  #Hàm thêm cạch (u,v) vào đồ thị\n",
        "  def addEdge(self, u, v):\n",
        "    self.graph[u].append(v)\n",
        "  \n",
        "  #Hàm BFS duyệt đồ thị các đỉnh theo chiều rộng\n",
        "  def BFS(self, u):\n",
        "    #đánh dấu các đỉnh đã đi qua\n",
        "    visited = [False]*(len(self.graph))\n",
        "    #khởi tạo hàm đại\n",
        "    queue =[]\n",
        "    #đánh dấu đỉnh u trong visited và đưa vào hàng đại\n",
        "    visited[u] = True\n",
        "    queue.append(u)\n",
        "\n",
        "    while queue:\n",
        "      #lấy 1 đỉnh hàng đại và in giá trị\n",
        "      u = queue.pop(0)\n",
        "      print(u, end=' ')\n",
        "\n",
        "      for i in self.graph[u]:\n",
        "        if not visited[i]:\n",
        "          queue.append(i)\n",
        "          visited[i] = True\n",
        "\n",
        "if __name__ == '__main__':\n",
        "  g=Graph()\n",
        "  g.addEdge(0,1) \n",
        "  g.addEdge(1,0)\n",
        "  g.addEdge(0,2)\n",
        "  g.addEdge(2,0)\n",
        "  g.addEdge(1,3)\n",
        "  g.addEdge(3,1)\n",
        "  g.addEdge(1,4)\n",
        "  g.addEdge(4,1)\n",
        "  g.addEdge(2,4)\n",
        "  g.addEdge(4,2)\n",
        "  g.addEdge(3,4)\n",
        "  g.addEdge(4,3)\n",
        "  g.addEdge(3,5)\n",
        "  g.addEdge(5,3)\n",
        "  g.addEdge(4,5)\n",
        "  g.addEdge(5,4)\n",
        "  print(\"BEF starts with vertex 0\")\n",
        "  g.BFS(0)"
      ]
    }
  ]
}