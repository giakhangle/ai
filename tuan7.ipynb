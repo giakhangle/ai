{
  "nbformat": 4,
  "nbformat_minor": 0,
  "metadata": {
    "colab": {
      "provenance": [],
      "authorship_tag": "ABX9TyNtH+B2Ox49o9pI5I9UHW+N",
      "include_colab_link": true
    },
    "kernelspec": {
      "name": "python3",
      "display_name": "Python 3"
    },
    "language_info": {
      "name": "python"
    }
  },
  "cells": [
    {
      "cell_type": "markdown",
      "metadata": {
        "id": "view-in-github",
        "colab_type": "text"
      },
      "source": [
        "<a href=\"https://colab.research.google.com/github/giakhangle/ai/blob/main/tuan7.ipynb\" target=\"_parent\"><img src=\"https://colab.research.google.com/assets/colab-badge.svg\" alt=\"Open In Colab\"/></a>"
      ]
    },
    {
      "cell_type": "code",
      "execution_count": null,
      "metadata": {
        "id": "s5vAWOj9cV6W"
      },
      "outputs": [],
      "source": [
        "!pip install simpleai"
      ]
    },
    {
      "cell_type": "code",
      "source": [
        "import simpleai.search as ss\n",
        "class StringProblem(ss.SearchProblem):\n",
        "  #Hàm nhận chuỗi mục tiêu cho lớp\n",
        "  def set_target(self, target_string):\n",
        "    self.target_string = target_string\n",
        "  def actions(self, state):\n",
        "    if len(state)< len(self.target_string):\n",
        "      alphabets = \"abcdefghijklmnopqrstuvwxyz\"\n",
        "      return list(alphabets +\" \"+ alphabets.upper())\n",
        "    else:\n",
        "      return[]\n",
        "  #Hàm trả về chuỗi hiện hành với danh sách alphabets\n",
        "  def result(self, state, action):\n",
        "    return state + action\n",
        "  #Hàm kiểm tra đã đạt chuỗi mục tiêu chưa\n",
        "  def is_goal(self, state):\n",
        "    return state == self.target_string\n",
        "  #Hàm tính khoảng cách chuỗi hiện hành với chuỗi mục tiêu\n",
        "  def heuristic(self, state):\n",
        "    #so sánh từng ký tự của chuỗi hiện hành với chuỗi mục tiêu\n",
        "    dist = sum([1 if state[i]!=self.target_string[i] else 0\n",
        "                for i in range(len(state))])\n",
        "    diff = len(self.target_string) - len(state)\n",
        "    return dist + diff\n",
        "\n",
        "if __name__ == \"__main__\":\n",
        "  problem = StringProblem()\n",
        "  problem.set_target(\"Artigicial Intlligence\")\n",
        "  problem.initial_state = \"\"\n",
        "  output = ss.greedy(problem)\n",
        "  #In các đường đi đến chuỗi mục tiêu\n",
        "  print(\"\\nTarget string: Artificial Intelligence\")\n",
        "  print(\"\\nPath to solution: \")\n",
        "  for item in output.path():\n",
        "    print(item)"
      ],
      "metadata": {
        "colab": {
          "base_uri": "https://localhost:8080/"
        },
        "id": "Dx76L0qdoYFt",
        "outputId": "05edca6a-1522-4f02-d851-20727957393e"
      },
      "execution_count": 29,
      "outputs": [
        {
          "output_type": "stream",
          "name": "stdout",
          "text": [
            "\n",
            "Target string: Artificial Intelligence\n",
            "\n",
            "Path to solution: \n",
            "(None, '')\n",
            "('A', 'A')\n",
            "('r', 'Ar')\n",
            "('t', 'Art')\n",
            "('i', 'Arti')\n",
            "('g', 'Artig')\n",
            "('i', 'Artigi')\n",
            "('c', 'Artigic')\n",
            "('i', 'Artigici')\n",
            "('a', 'Artigicia')\n",
            "('l', 'Artigicial')\n",
            "(' ', 'Artigicial ')\n",
            "('I', 'Artigicial I')\n",
            "('n', 'Artigicial In')\n",
            "('t', 'Artigicial Int')\n",
            "('l', 'Artigicial Intl')\n",
            "('l', 'Artigicial Intll')\n",
            "('i', 'Artigicial Intlli')\n",
            "('g', 'Artigicial Intllig')\n",
            "('e', 'Artigicial Intllige')\n",
            "('n', 'Artigicial Intlligen')\n",
            "('c', 'Artigicial Intlligenc')\n",
            "('e', 'Artigicial Intlligence')\n"
          ]
        }
      ]
    },
    {
      "cell_type": "code",
      "source": [
        "from simpleai.search import CspProblem, backtrack, min_conflicts, MOST_CONSTRAINED_VARIABLE, \\\n",
        "                                HIGHEST_DEGREE_VARIABLE, LEAST_CONSTRAINING_VALUE\n",
        "variables = {\"A\", \"B\", \"C\", \"D\", \"E\"}\n",
        "domains = {\"A\": [1, 2, 3, 4],\n",
        "           \"B\": [1, 2, 4],\n",
        "           \"C\": [1, 3, 4],\n",
        "           \"D\": [1, 2, 3, 4],\n",
        "           \"E\": [1, 2, 3, 4]}\n",
        "def constraint_equality(variables, values):\n",
        "  return values[0] == values[1]\n",
        "def constraint_difference(variables, values):\n",
        "  return values[0] == values[1]\n",
        "def constraint_less_than(variables, values):\n",
        "  return values[0] == values[1]\n",
        "constraints = [((\"A\", \"B\"), constraint_difference),\n",
        "               ((\"A\", \"D\"), constraint_equality),\n",
        "               ((\"E\", \"A\"), constraint_less_than),\n",
        "               ((\"B\", \"C\"), constraint_difference),\n",
        "               ((\"B\", \"D\"), constraint_difference),\n",
        "               ((\"E\", \"B\"), constraint_less_than),\n",
        "               ((\"C\", \"D\"), constraint_less_than),\n",
        "               ((\"E\", \"C\"), constraint_less_than)]\n",
        "if __name__ == \"__main__\":\n",
        "  #Khởi động biến, domains và ràng buộc cho lớp CspProblem\n",
        "  problem= CspProblem(variables, domains, constraints)\n",
        "  #Thực hiện giải pháp\n",
        "  print(\"\\nSolutions: \\n\\nNormal: \", backtrack(problem))\n",
        "  #Thực hiện giải pháp biến ràng buộc nhiều nhất\n",
        "  print(\"\\nMost Constraint Variable: \", backtrack(problem, variable_heuristic=MOST_CONSTRAINED_VARIABLE))\n",
        "  #Thực hiện giải pháp biến ràng buộc cao nhất\n",
        "  print(\"\\nHighest Constraint Variable: \", backtrack(problem, variable_heuristic=HIGHEST_DEGREE_VARIABLE))\n",
        "  #Thực hiện giải pháp biến ràng buộc ít nhất\n",
        "  print(\"\\nLeast Constraint Variable: \", backtrack(problem, variable_heuristic=LEAST_CONSTRAINING_VALUE))"
      ],
      "metadata": {
        "colab": {
          "base_uri": "https://localhost:8080/"
        },
        "id": "UPhtAHJlkAZC",
        "outputId": "9df263ee-e332-46ca-b85c-54271adaa49b"
      },
      "execution_count": 13,
      "outputs": [
        {
          "output_type": "stream",
          "name": "stdout",
          "text": [
            "\n",
            "Solutions: \n",
            "\n",
            "Normal:  {'D': 1, 'C': 1, 'A': 1, 'B': 1, 'E': 1}\n",
            "\n",
            "Most Constraint Variable:  {'C': 1, 'D': 1, 'A': 1, 'B': 1, 'E': 1}\n",
            "\n",
            "Highest Constraint Variable:  {'B': 1, 'D': 1, 'C': 1, 'A': 1, 'E': 1}\n",
            "\n",
            "Least Constraint Variable:  {'D': 1, 'C': 1, 'A': 1, 'B': 1, 'E': 1}\n"
          ]
        }
      ]
    },
    {
      "cell_type": "code",
      "source": [
        "from simpleai.search import CspProblem, backtrack, min_conflicts, MOST_CONSTRAINED_VARIABLE, \\\n",
        "                                HIGHEST_DEGREE_VARIABLE, LEAST_CONSTRAINING_VALUE\n",
        "variables = {\"C1\", \"C2\", \"C3\", \"C4\", \"C5\"}\n",
        "domains = {\"C1\": [\"C\"],\n",
        "           \"C2\": [\"B\", \"C\"],\n",
        "           \"C3\": [\"A\", \"B\", \"C\"],\n",
        "           \"C4\": [\"A\", \"B\", \"C\"],\n",
        "           \"C5\": [\"B\", \"C\"]}\n",
        "def constraint_difference(variables, values):\n",
        "  return values[0] == values[1]\n",
        "constraints = [((\"C1\", \"C2\"), constraint_difference),\n",
        "               ((\"C2\", \"C3\"), constraint_difference),\n",
        "               ((\"C3\", \"C4\"), constraint_difference),\n",
        "               ((\"C4\", \"C5\"), constraint_difference),\n",
        "               ((\"C2\", \"C4\"), constraint_difference),\n",
        "               ((\"C3\", \"C5\"), constraint_difference)]\n",
        "if __name__ == \"__main__\":\n",
        "  #Khởi động biến, domains và ràng buộc cho lớp CspProblem\n",
        "  problem= CspProblem(variables, domains, constraints)\n",
        "  #Thực hiện giải pháp\n",
        "  print(\"\\nSolutions: \\n\\nNormal: \", backtrack(problem))\n",
        "  #Thực hiện giải pháp biến ràng buộc nhiều nhất\n",
        "  print(\"\\nMost Constraint Variable: \", backtrack(problem, variable_heuristic=MOST_CONSTRAINED_VARIABLE))\n",
        "  #Thực hiện giải pháp biến ràng buộc cao nhất\n",
        "  print(\"\\nHighest Constraint Variable: \", backtrack(problem, variable_heuristic=HIGHEST_DEGREE_VARIABLE))\n",
        "  #Thực hiện giải pháp biến ràng buộc ít nhất\n",
        "  print(\"\\nLeast Constraint Variable: \", backtrack(problem, variable_heuristic=LEAST_CONSTRAINING_VALUE))"
      ],
      "metadata": {
        "colab": {
          "base_uri": "https://localhost:8080/"
        },
        "id": "mE38OkpJd1uF",
        "outputId": "f9a82921-13c4-4e3d-f265-f03869758492"
      },
      "execution_count": 9,
      "outputs": [
        {
          "output_type": "stream",
          "name": "stdout",
          "text": [
            "\n",
            "Solutions: \n",
            "\n",
            "Normal:  {'C2': 'C', 'C3': 'C', 'C1': 'C', 'C5': 'C', 'C4': 'C'}\n",
            "\n",
            "Most Constraint Variable:  {'C1': 'C', 'C2': 'C', 'C3': 'C', 'C5': 'C', 'C4': 'C'}\n",
            "\n",
            "Highest Constraint Variable:  {'C2': 'C', 'C3': 'C', 'C4': 'C', 'C5': 'C', 'C1': 'C'}\n",
            "\n",
            "Least Constraint Variable:  {'C2': 'C', 'C3': 'C', 'C1': 'C', 'C5': 'C', 'C4': 'C'}\n"
          ]
        }
      ]
    },
    {
      "cell_type": "code",
      "source": [
        "import numpy as np\n",
        "#Kiểm tra trạng thái hiện tại là giải pháp hợp lệ hay ko\n",
        "def is_valid_state(state, num_queens):\n",
        "  return len(state) == num_queens\n",
        "def get_candidates(state, num_queens):\n",
        "  if not state:\n",
        "    return range(num_queens)\n",
        "  position = len(state)\n",
        "  candidates = set(range(num_queens))\n",
        "  for row, col in enumerate(state):\n",
        "    candidates.discard(col)\n",
        "    dist = position - row\n",
        "    candidates.discard(col + dist)\n",
        "    candidates.discard(col - dist)\n",
        "  return candidates\n",
        "def search(state, solutions, num_queens):\n",
        "  if is_valid_state(state, num_queens):\n",
        "    solutions.append(state.copy())\n",
        "    print(f\"Valid State Found: {state}\")\n",
        "  for candidate in get_candidates(state, num_queens):\n",
        "    state.append(candidate)\n",
        "    search(state, solutions, num_queens)\n",
        "    print(f\"backtracking from: {state}\")\n",
        "    state.remove(candidate)\n",
        "def solve():\n",
        "  solutions = []\n",
        "  state = []\n",
        "  search(state, solutions, num_queens)\n",
        "  return solutions\n",
        "if __name__ == \"__main__\":\n",
        "  num_queens = int(input(\"Enter number of queens: \"))\n",
        "  solutions = solve()\n",
        "  for solution in solutions:\n",
        "    board = np.full((num_queens, num_queens),\"_\")\n",
        "    for row, col in enumerate(solution):\n",
        "      board[row][col] = 'Q'\n",
        "    print(f'/nSolution: {solution}')\n",
        "    print(board)"
      ],
      "metadata": {
        "colab": {
          "base_uri": "https://localhost:8080/"
        },
        "id": "_GX2wxRdjYzU",
        "outputId": "5ed3c1f9-ee9c-4d69-aab4-3527e8442127"
      },
      "execution_count": 30,
      "outputs": [
        {
          "output_type": "stream",
          "name": "stdout",
          "text": [
            "Enter number of queens: 4\n",
            "backtracking from: [0, 2]\n",
            "backtracking from: [0, 3, 1]\n",
            "backtracking from: [0, 3]\n",
            "backtracking from: [0]\n",
            "Valid State Found: [1, 3, 0, 2]\n",
            "backtracking from: [1, 3, 0, 2]\n",
            "backtracking from: [1, 3, 0]\n",
            "backtracking from: [1, 3]\n",
            "backtracking from: [1]\n",
            "Valid State Found: [2, 0, 3, 1]\n",
            "backtracking from: [2, 0, 3, 1]\n",
            "backtracking from: [2, 0, 3]\n",
            "backtracking from: [2, 0]\n",
            "backtracking from: [2]\n",
            "backtracking from: [3, 0, 2]\n",
            "backtracking from: [3, 0]\n",
            "backtracking from: [3, 1]\n",
            "backtracking from: [3]\n",
            "/nSolution: [1, 3, 0, 2]\n",
            "[['_' 'Q' '_' '_']\n",
            " ['_' '_' '_' 'Q']\n",
            " ['Q' '_' '_' '_']\n",
            " ['_' '_' 'Q' '_']]\n",
            "/nSolution: [2, 0, 3, 1]\n",
            "[['_' '_' 'Q' '_']\n",
            " ['Q' '_' '_' '_']\n",
            " ['_' '_' '_' 'Q']\n",
            " ['_' 'Q' '_' '_']]\n"
          ]
        }
      ]
    }
  ]
}